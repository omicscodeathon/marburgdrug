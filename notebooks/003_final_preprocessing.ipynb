{
 "cells": [
  {
   "cell_type": "markdown",
   "metadata": {},
   "source": [
    "## Importing necessary libraries"
   ]
  },
  {
   "cell_type": "code",
   "execution_count": 41,
   "metadata": {},
   "outputs": [],
   "source": [
    "import pandas as pd\n",
    "import numpy as np\n",
    "import matplotlib.pyplot as plt\n",
    "import os"
   ]
  },
  {
   "cell_type": "code",
   "execution_count": 79,
   "metadata": {},
   "outputs": [
    {
     "name": "stdout",
     "output_type": "stream",
     "text": [
      "traindata shape:  (9347, 1445)\n",
      "testdata shape:  (2334, 1445)\n"
     ]
    },
    {
     "data": {
      "text/html": [
       "<div>\n",
       "<style scoped>\n",
       "    .dataframe tbody tr th:only-of-type {\n",
       "        vertical-align: middle;\n",
       "    }\n",
       "\n",
       "    .dataframe tbody tr th {\n",
       "        vertical-align: top;\n",
       "    }\n",
       "\n",
       "    .dataframe thead th {\n",
       "        text-align: right;\n",
       "    }\n",
       "</style>\n",
       "<table border=\"1\" class=\"dataframe\">\n",
       "  <thead>\n",
       "    <tr style=\"text-align: right;\">\n",
       "      <th></th>\n",
       "      <th>nAcid</th>\n",
       "      <th>ALogP</th>\n",
       "      <th>ALogp2</th>\n",
       "      <th>AMR</th>\n",
       "      <th>apol</th>\n",
       "      <th>naAromAtom</th>\n",
       "      <th>nAromBond</th>\n",
       "      <th>nAtom</th>\n",
       "      <th>nHeavyAtom</th>\n",
       "      <th>nH</th>\n",
       "      <th>...</th>\n",
       "      <th>WTPT-1</th>\n",
       "      <th>WTPT-2</th>\n",
       "      <th>WTPT-3</th>\n",
       "      <th>WTPT-4</th>\n",
       "      <th>WTPT-5</th>\n",
       "      <th>WPATH</th>\n",
       "      <th>WPOL</th>\n",
       "      <th>XLogP</th>\n",
       "      <th>Zagreb</th>\n",
       "      <th>ACTIVITY</th>\n",
       "    </tr>\n",
       "  </thead>\n",
       "  <tbody>\n",
       "    <tr>\n",
       "      <th>0</th>\n",
       "      <td>0</td>\n",
       "      <td>0.04</td>\n",
       "      <td>0.00</td>\n",
       "      <td>74.93</td>\n",
       "      <td>39.29</td>\n",
       "      <td>0</td>\n",
       "      <td>0</td>\n",
       "      <td>32</td>\n",
       "      <td>19</td>\n",
       "      <td>13</td>\n",
       "      <td>...</td>\n",
       "      <td>38.84</td>\n",
       "      <td>2.04</td>\n",
       "      <td>14.64</td>\n",
       "      <td>5.66</td>\n",
       "      <td>6.43</td>\n",
       "      <td>726.00</td>\n",
       "      <td>26.00</td>\n",
       "      <td>2.17</td>\n",
       "      <td>100.00</td>\n",
       "      <td>1</td>\n",
       "    </tr>\n",
       "    <tr>\n",
       "      <th>1</th>\n",
       "      <td>0</td>\n",
       "      <td>1.69</td>\n",
       "      <td>2.85</td>\n",
       "      <td>139.57</td>\n",
       "      <td>75.41</td>\n",
       "      <td>0</td>\n",
       "      <td>0</td>\n",
       "      <td>63</td>\n",
       "      <td>35</td>\n",
       "      <td>28</td>\n",
       "      <td>...</td>\n",
       "      <td>73.19</td>\n",
       "      <td>2.09</td>\n",
       "      <td>23.70</td>\n",
       "      <td>2.59</td>\n",
       "      <td>12.94</td>\n",
       "      <td>3948.00</td>\n",
       "      <td>57.00</td>\n",
       "      <td>5.58</td>\n",
       "      <td>198.00</td>\n",
       "      <td>1</td>\n",
       "    </tr>\n",
       "    <tr>\n",
       "      <th>2</th>\n",
       "      <td>0</td>\n",
       "      <td>1.38</td>\n",
       "      <td>1.91</td>\n",
       "      <td>100.69</td>\n",
       "      <td>53.75</td>\n",
       "      <td>0</td>\n",
       "      <td>0</td>\n",
       "      <td>47</td>\n",
       "      <td>25</td>\n",
       "      <td>22</td>\n",
       "      <td>...</td>\n",
       "      <td>49.89</td>\n",
       "      <td>2.00</td>\n",
       "      <td>20.50</td>\n",
       "      <td>2.52</td>\n",
       "      <td>17.98</td>\n",
       "      <td>1794.00</td>\n",
       "      <td>35.00</td>\n",
       "      <td>2.10</td>\n",
       "      <td>120.00</td>\n",
       "      <td>0</td>\n",
       "    </tr>\n",
       "    <tr>\n",
       "      <th>3</th>\n",
       "      <td>0</td>\n",
       "      <td>2.57</td>\n",
       "      <td>6.59</td>\n",
       "      <td>117.77</td>\n",
       "      <td>62.95</td>\n",
       "      <td>0</td>\n",
       "      <td>0</td>\n",
       "      <td>55</td>\n",
       "      <td>27</td>\n",
       "      <td>28</td>\n",
       "      <td>...</td>\n",
       "      <td>54.64</td>\n",
       "      <td>2.02</td>\n",
       "      <td>12.04</td>\n",
       "      <td>5.55</td>\n",
       "      <td>6.49</td>\n",
       "      <td>2074.00</td>\n",
       "      <td>41.00</td>\n",
       "      <td>3.09</td>\n",
       "      <td>138.00</td>\n",
       "      <td>1</td>\n",
       "    </tr>\n",
       "    <tr>\n",
       "      <th>4</th>\n",
       "      <td>0</td>\n",
       "      <td>1.71</td>\n",
       "      <td>2.93</td>\n",
       "      <td>107.62</td>\n",
       "      <td>49.99</td>\n",
       "      <td>0</td>\n",
       "      <td>0</td>\n",
       "      <td>37</td>\n",
       "      <td>25</td>\n",
       "      <td>12</td>\n",
       "      <td>...</td>\n",
       "      <td>51.68</td>\n",
       "      <td>2.07</td>\n",
       "      <td>16.92</td>\n",
       "      <td>0.00</td>\n",
       "      <td>14.40</td>\n",
       "      <td>1320.00</td>\n",
       "      <td>47.00</td>\n",
       "      <td>2.42</td>\n",
       "      <td>138.00</td>\n",
       "      <td>1</td>\n",
       "    </tr>\n",
       "  </tbody>\n",
       "</table>\n",
       "<p>5 rows × 1445 columns</p>\n",
       "</div>"
      ],
      "text/plain": [
       "   nAcid  ALogP  ALogp2    AMR  apol  naAromAtom  nAromBond  nAtom  \\\n",
       "0      0   0.04    0.00  74.93 39.29           0          0     32   \n",
       "1      0   1.69    2.85 139.57 75.41           0          0     63   \n",
       "2      0   1.38    1.91 100.69 53.75           0          0     47   \n",
       "3      0   2.57    6.59 117.77 62.95           0          0     55   \n",
       "4      0   1.71    2.93 107.62 49.99           0          0     37   \n",
       "\n",
       "   nHeavyAtom  nH  ...  WTPT-1  WTPT-2  WTPT-3  WTPT-4  WTPT-5   WPATH  WPOL  \\\n",
       "0          19  13  ...   38.84    2.04   14.64    5.66    6.43  726.00 26.00   \n",
       "1          35  28  ...   73.19    2.09   23.70    2.59   12.94 3948.00 57.00   \n",
       "2          25  22  ...   49.89    2.00   20.50    2.52   17.98 1794.00 35.00   \n",
       "3          27  28  ...   54.64    2.02   12.04    5.55    6.49 2074.00 41.00   \n",
       "4          25  12  ...   51.68    2.07   16.92    0.00   14.40 1320.00 47.00   \n",
       "\n",
       "   XLogP  Zagreb  ACTIVITY  \n",
       "0   2.17  100.00         1  \n",
       "1   5.58  198.00         1  \n",
       "2   2.10  120.00         0  \n",
       "3   3.09  138.00         1  \n",
       "4   2.42  138.00         1  \n",
       "\n",
       "[5 rows x 1445 columns]"
      ]
     },
     "execution_count": 79,
     "metadata": {},
     "output_type": "execute_result"
    }
   ],
   "source": [
    "train_data = pd.read_csv('../data/preprocessed/002_train_padel_fps.csv')\n",
    "test_data = pd.read_csv('../data/preprocessed/002_test_padel_fps.csv')\n",
    "\n",
    "print('traindata shape: ', train_data.shape)\n",
    "print('testdata shape: ', test_data.shape)\n",
    "train_data.head(5)"
   ]
  },
  {
   "cell_type": "markdown",
   "metadata": {},
   "source": [
    "## pipeline"
   ]
  },
  {
   "cell_type": "code",
   "execution_count": 80,
   "metadata": {},
   "outputs": [],
   "source": [
    "continuous_cols = train_data.select_dtypes(include='float64').columns\n",
    "\n",
    "Q1 = train_data[continuous_cols].quantile(0.25)\n",
    "Q3 = train_data[continuous_cols].quantile(0.75)\n",
    "IQR = Q3 - Q1\n",
    "lower_bound = Q1 - 1.5 * IQR\n",
    "upper_bound = Q3 + 1.5 * IQR\n",
    "\n",
    "train_data[continuous_cols] = train_data[continuous_cols].clip(lower=lower_bound, upper=upper_bound, axis=1)\n",
    "test_data[continuous_cols] = test_data[continuous_cols].clip(lower=lower_bound, upper=upper_bound, axis=1)"
   ]
  },
  {
   "cell_type": "code",
   "execution_count": 81,
   "metadata": {},
   "outputs": [],
   "source": [
    "# from sklearn.base import BaseEstimator, TransformerMixin\n",
    "from sklearn.preprocessing import RobustScaler\n",
    "from sklearn.feature_selection import VarianceThreshold\n",
    "from imblearn.pipeline import Pipeline\n",
    "from sklearn.impute import SimpleImputer\n",
    "\n",
    "def create_preprocessing_pipeline():\n",
    "    pipeline = Pipeline([\n",
    "        ('variance_selector', VarianceThreshold(threshold=0.01)),\n",
    "        ('imputer', SimpleImputer()),\n",
    "        ('scaler', RobustScaler())\n",
    "    ])\n",
    "    return pipeline"
   ]
  },
  {
   "cell_type": "code",
   "execution_count": 82,
   "metadata": {},
   "outputs": [],
   "source": [
    "preprocessor = create_preprocessing_pipeline()\n",
    "\n",
    "X_train = train_data.drop('ACTIVITY', axis=1)\n",
    "y_train = train_data['ACTIVITY']\n",
    "\n",
    "X_test = test_data.drop('ACTIVITY', axis=1)\n",
    "y_test = test_data['ACTIVITY']\n",
    "\n",
    "\n",
    "preprocessor.fit(X_train)\n",
    "X_train = preprocessor.transform(X_train)\n",
    "X_test = preprocessor.transform(X_test)"
   ]
  },
  {
   "cell_type": "code",
   "execution_count": 83,
   "metadata": {},
   "outputs": [],
   "source": [
    "from imblearn.over_sampling import SMOTE\n",
    "\n",
    "X_resampled, y_resampled = SMOTE().fit_resample(X_train, y_train)"
   ]
  },
  {
   "cell_type": "markdown",
   "metadata": {},
   "source": [
    "## model building"
   ]
  },
  {
   "cell_type": "code",
   "execution_count": 84,
   "metadata": {},
   "outputs": [],
   "source": [
    "from sklearn.ensemble import RandomForestClassifier\n",
    "\n",
    "clf = RandomForestClassifier(random_state=0, class_weight='balanced')\n",
    "clf.fit(X_resampled, y_resampled)\n",
    "y_pred = clf.predict(X_test)"
   ]
  },
  {
   "cell_type": "code",
   "execution_count": 85,
   "metadata": {},
   "outputs": [
    {
     "name": "stdout",
     "output_type": "stream",
     "text": [
      "accuracy:  0.7540702656383891\n",
      "f1_score:  0.6943556975505857\n",
      "precision_score:  0.7048648648648649\n",
      "recall_score:  0.6841552990556139\n"
     ]
    }
   ],
   "source": [
    "from sklearn.metrics import accuracy_score, f1_score, precision_score, recall_score\n",
    "\n",
    "print('accuracy: ', accuracy_score(y_test, y_pred))\n",
    "print('f1_score: ', f1_score(y_test, y_pred))\n",
    "print('precision_score: ', precision_score(y_test, y_pred))\n",
    "print('recall_score: ', recall_score(y_test, y_pred))\n"
   ]
  }
 ],
 "metadata": {
  "kernelspec": {
   "display_name": "venv",
   "language": "python",
   "name": "python3"
  },
  "language_info": {
   "codemirror_mode": {
    "name": "ipython",
    "version": 3
   },
   "file_extension": ".py",
   "mimetype": "text/x-python",
   "name": "python",
   "nbconvert_exporter": "python",
   "pygments_lexer": "ipython3",
   "version": "3.10.12"
  }
 },
 "nbformat": 4,
 "nbformat_minor": 2
}
